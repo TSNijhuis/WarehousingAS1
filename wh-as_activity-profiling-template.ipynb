{
 "cells": [
  {
   "cell_type": "markdown",
   "metadata": {
    "id": "CxFdALwemMqA"
   },
   "source": [
    "# Warehouse Activity Profiling\n",
    "\n",
    "## Data Setup\n",
    "\n",
    "In the following, warehousing data is downloaded to a local directory `data/raw`."
   ]
  },
  {
   "cell_type": "code",
   "execution_count": 5,
   "metadata": {
    "colab": {
     "base_uri": "https://localhost:8080/"
    },
    "executionInfo": {
     "elapsed": 42052,
     "status": "ok",
     "timestamp": 1756977760083,
     "user": {
      "displayName": "Breno Alves Beirigo",
      "userId": "03199790246881935880"
     },
     "user_tz": -120
    },
    "id": "0O6UXFTAmMqB",
    "outputId": "69a835b7-05be-44c2-d7bc-447c4a652c29"
   },
   "outputs": [
    {
     "name": "stderr",
     "output_type": "stream",
     "text": [
      "  WARNING: The script tqdm.exe is installed in 'c:\\Users\\jorn2\\AppData\\Local\\Programs\\Python\\Python313\\Scripts' which is not on PATH.\n",
      "  Consider adding this directory to PATH or, if you prefer to suppress this warning, use --no-warn-script-location.\n",
      "  WARNING: The script plotly_get_chrome.exe is installed in 'c:\\Users\\jorn2\\AppData\\Local\\Programs\\Python\\Python313\\Scripts' which is not on PATH.\n",
      "  Consider adding this directory to PATH or, if you prefer to suppress this warning, use --no-warn-script-location.\n",
      "  WARNING: The script gdown.exe is installed in 'c:\\Users\\jorn2\\AppData\\Local\\Programs\\Python\\Python313\\Scripts' which is not on PATH.\n",
      "  Consider adding this directory to PATH or, if you prefer to suppress this warning, use --no-warn-script-location.\n",
      "\n",
      "[notice] A new release of pip is available: 25.1.1 -> 25.2\n",
      "[notice] To update, run: python.exe -m pip install --upgrade pip\n"
     ]
    },
    {
     "name": "stdout",
     "output_type": "stream",
     "text": [
      "Note: you may need to restart the kernel to use updated packages.\n",
      "Downloading file: DC23MINMAX2.xls\n"
     ]
    },
    {
     "name": "stderr",
     "output_type": "stream",
     "text": [
      "Downloading...\n",
      "From: https://docs.google.com/uc?id=1-HdyNodYixXl6cMUS-YxKhngPSBsP4Mq\n",
      "To: c:\\Users\\jorn2\\OneDrive\\Documenten\\GitHub\\WarehousingAS1\\data\\raw\\DC23MINMAX2.xls\n",
      "100%|██████████| 2.02M/2.02M [00:00<00:00, 14.2MB/s]\n"
     ]
    },
    {
     "name": "stdout",
     "output_type": "stream",
     "text": [
      "Downloading file: BCF-zones.xls\n"
     ]
    },
    {
     "name": "stderr",
     "output_type": "stream",
     "text": [
      "Downloading...\n",
      "From: https://docs.google.com/uc?id=11ULuWAONeoT5u15KNLPo2IhlWf7gKAHs\n",
      "To: c:\\Users\\jorn2\\OneDrive\\Documenten\\GitHub\\WarehousingAS1\\data\\raw\\BCF-zones.xls\n",
      "100%|██████████| 113k/113k [00:00<00:00, 10.6MB/s]\n"
     ]
    },
    {
     "name": "stdout",
     "output_type": "stream",
     "text": [
      "Downloading file: dc23Sales04.txt\n"
     ]
    },
    {
     "name": "stderr",
     "output_type": "stream",
     "text": [
      "Downloading...\n",
      "From (original): https://drive.google.com/uc?id=16Z3vAdCzwErOTUF5MYOv-6Jc0wtis2x-\n",
      "From (redirected): https://drive.google.com/uc?id=16Z3vAdCzwErOTUF5MYOv-6Jc0wtis2x-&confirm=t&uuid=b93457bb-7f34-4efc-be66-a422e25a2ce4\n",
      "To: c:\\Users\\jorn2\\OneDrive\\Documenten\\GitHub\\WarehousingAS1\\data\\raw\\dc23Sales04.txt\n",
      "100%|██████████| 190M/190M [00:12<00:00, 15.3MB/s] \n"
     ]
    },
    {
     "name": "stdout",
     "output_type": "stream",
     "text": [
      "Downloading file: Phily_Dim_Status2.xls\n"
     ]
    },
    {
     "name": "stderr",
     "output_type": "stream",
     "text": [
      "Downloading...\n",
      "From: https://docs.google.com/uc?id=1EZuFoHB8X2Ji_ylOozsTnc3IM8VBs7Sl\n",
      "To: c:\\Users\\jorn2\\OneDrive\\Documenten\\GitHub\\WarehousingAS1\\data\\raw\\Phily_Dim_Status2.xls\n",
      "100%|██████████| 5.95M/5.95M [00:00<00:00, 12.6MB/s]\n"
     ]
    },
    {
     "name": "stdout",
     "output_type": "stream",
     "text": [
      "Downloading file: DC23ACTIVE AS OF 050210.xls\n"
     ]
    },
    {
     "name": "stderr",
     "output_type": "stream",
     "text": [
      "Downloading...\n",
      "From: https://docs.google.com/uc?id=1QQDh-i4XXHuXmRP3hB9WCw5zLn5VY-OO\n",
      "To: c:\\Users\\jorn2\\OneDrive\\Documenten\\GitHub\\WarehousingAS1\\data\\raw\\DC23ACTIVE AS OF 050210.xls\n",
      "100%|██████████| 2.79M/2.79M [00:00<00:00, 14.6MB/s]\n"
     ]
    },
    {
     "name": "stdout",
     "output_type": "stream",
     "text": [
      "Downloading file: CDCART23.txt\n"
     ]
    },
    {
     "name": "stderr",
     "output_type": "stream",
     "text": [
      "Downloading...\n",
      "From: https://drive.google.com/uc?id=1b_YdIZFgpHpwGiStUZgFXdX8OQo5TD5q\n",
      "To: c:\\Users\\jorn2\\OneDrive\\Documenten\\GitHub\\WarehousingAS1\\data\\raw\\CDCART23.txt\n",
      "100%|██████████| 20.9M/20.9M [00:01<00:00, 15.6MB/s]\n"
     ]
    },
    {
     "name": "stdout",
     "output_type": "stream",
     "text": [
      "Downloading file: CHCART23.txt\n"
     ]
    },
    {
     "name": "stderr",
     "output_type": "stream",
     "text": [
      "Downloading...\n",
      "From: https://drive.google.com/uc?id=1hc5aJHHkA33QG3mWaR0YWb-TMJK_svqd\n",
      "To: c:\\Users\\jorn2\\OneDrive\\Documenten\\GitHub\\WarehousingAS1\\data\\raw\\CHCART23.txt\n",
      "100%|██████████| 8.19M/8.19M [00:00<00:00, 14.8MB/s]\n"
     ]
    },
    {
     "name": "stdout",
     "output_type": "stream",
     "text": [
      "Downloading file: DC23CASES AS OF 050210.xls\n"
     ]
    },
    {
     "name": "stderr",
     "output_type": "stream",
     "text": [
      "Downloading...\n",
      "From: https://docs.google.com/uc?id=1ok3ymi8g5FsBFVThjNC7TRuEIg3GDrP7\n",
      "To: c:\\Users\\jorn2\\OneDrive\\Documenten\\GitHub\\WarehousingAS1\\data\\raw\\DC23CASES AS OF 050210.xls\n",
      "100%|██████████| 8.10M/8.10M [00:00<00:00, 13.3MB/s]\n"
     ]
    },
    {
     "name": "stdout",
     "output_type": "stream",
     "text": [
      "Downloading file: ITEMDATAV2.txt\n"
     ]
    },
    {
     "name": "stderr",
     "output_type": "stream",
     "text": [
      "Downloading...\n",
      "From: https://drive.google.com/uc?id=1xX1L5aMErZWRPjK90XgocHa9OKVcFMJh\n",
      "To: c:\\Users\\jorn2\\OneDrive\\Documenten\\GitHub\\WarehousingAS1\\data\\raw\\ITEMDATAV2.txt\n",
      "100%|██████████| 6.34M/6.34M [00:00<00:00, 15.1MB/s]\n"
     ]
    },
    {
     "name": "stdout",
     "output_type": "stream",
     "text": [
      "Downloading file: TRCART23.txt\n"
     ]
    },
    {
     "name": "stderr",
     "output_type": "stream",
     "text": [
      "Downloading...\n",
      "From: https://drive.google.com/uc?id=1y3g786KPqAtcVveDBsM9xwjtlKTN4-vL\n",
      "To: c:\\Users\\jorn2\\OneDrive\\Documenten\\GitHub\\WarehousingAS1\\data\\raw\\TRCART23.txt\n",
      "100%|██████████| 18.7M/18.7M [00:07<00:00, 2.62MB/s]\n"
     ]
    }
   ],
   "source": [
    "# Install useful libraries\n",
    "%pip install -q gdown pathlib pandas seaborn matplotlib numpy plotly openpyxl xlrd\n",
    "\n",
    "# Useful libraries\n",
    "import gdown\n",
    "import pathlib\n",
    "import os\n",
    "\n",
    "# File names, storage links, and column headers\n",
    "files = {\n",
    "  \"DC23MINMAX2.xls\":\"https://docs.google.com/uc?id=1-HdyNodYixXl6cMUS-YxKhngPSBsP4Mq\",\n",
    "  \"BCF-zones.xls\":\"https://docs.google.com/uc?id=11ULuWAONeoT5u15KNLPo2IhlWf7gKAHs\",\n",
    "  \"dc23Sales04.txt\":\"https://drive.google.com/uc?id=16Z3vAdCzwErOTUF5MYOv-6Jc0wtis2x-\",\n",
    "  \"Phily_Dim_Status2.xls\":\"https://docs.google.com/uc?id=1EZuFoHB8X2Ji_ylOozsTnc3IM8VBs7Sl\",\n",
    "  \"DC23ACTIVE AS OF 050210.xls\":\"https://docs.google.com/uc?id=1QQDh-i4XXHuXmRP3hB9WCw5zLn5VY-OO\",\n",
    "  \"CDCART23.txt\":\"https://drive.google.com/uc?id=1b_YdIZFgpHpwGiStUZgFXdX8OQo5TD5q\",\n",
    "  \"CHCART23.txt\":\"https://drive.google.com/uc?id=1hc5aJHHkA33QG3mWaR0YWb-TMJK_svqd\",\n",
    "  \"DC23CASES AS OF 050210.xls\":\"https://docs.google.com/uc?id=1ok3ymi8g5FsBFVThjNC7TRuEIg3GDrP7\",\n",
    "  \"ITEMDATAV2.txt\":\"https://drive.google.com/uc?id=1xX1L5aMErZWRPjK90XgocHa9OKVcFMJh\",\n",
    "  \"TRCART23.txt\":\"https://drive.google.com/uc?id=1y3g786KPqAtcVveDBsM9xwjtlKTN4-vL\",\n",
    "}\n",
    "\n",
    "# Files' destination directory\n",
    "folder = pathlib.Path(\"data/raw\")\n",
    "\n",
    "# Create destination directory inside project folder\n",
    "os.makedirs(folder, exist_ok=True)\n",
    "\n",
    "for output, url in files.items():\n",
    "  print(f\"Downloading file: {output}\")\n",
    "  # Download a file to the the target folder\n",
    "  gdown.download(url, str(folder / output), quiet=False)"
   ]
  },
  {
   "cell_type": "markdown",
   "metadata": {
    "id": "BqtSSCXemMqD"
   },
   "source": [
    "Loading the data into Pandas DataFrames:"
   ]
  },
  {
   "cell_type": "code",
   "execution_count": 5,
   "metadata": {
    "id": "j7bNcHUfmMqD"
   },
   "outputs": [
    {
     "name": "stdout",
     "output_type": "stream",
     "text": [
      "         item vnid                       itdesc      ordnbr  linenbr  \\\n",
      "0    BRTTN460  BRT    CRTDG,TNR,HI YLD,F/HL1250  23926870.0      1.0   \n",
      "1  CMC5810-BE  CMC   CART,UTLTY,200#CPCTY,16X36  23559658.0      1.0   \n",
      "2    KOK00172  KOK        TAPE,REFILL,PERMANENT  23840414.0      2.0   \n",
      "3     SOF1500  SOF  TWISSTOP,PHONE UNTANGLER,CL  23926870.0      2.0   \n",
      "4    SPR19764  GBC       BOARD,CORK,ALUMFRM,3X2  23750895.0      3.0   \n",
      "\n",
      "     cusnbr  ordqty  shpqty uom              txndate  \n",
      "0  615413.0     4.0     4.0  EA  2004-12-01 17:01:00  \n",
      "1   10135.0     8.0     8.0  EA  2004-08-02 14:45:00  \n",
      "2  614283.0     1.0     1.0  EA  2004-11-01 10:41:00  \n",
      "3  615413.0    20.0    20.0  EA  2004-12-01 17:01:00  \n",
      "4   27454.0     3.0     3.0  EA  2004-10-01 15:46:00  \n",
      "        SKU Stocked OMS Status                  Description Selling UOM  \\\n",
      "0  AAG47294       Y          X         PLNR,\"FAT LITTLE\",BK          EA   \n",
      "1  AAG47342       Y          X   ORGNZR,LTHR,SNAP,8.5X11,BK          EA   \n",
      "2  AAG47344       Y          X  ORGNZR,VYL,ZIP,3.75X6.75,BK          EA   \n",
      "3  AAG47346       Y          X  ORGNZR,SMLTH,ZIP,5.5X8.5,BK          EA   \n",
      "4  AAG47348       Y          X    ORGNZR,VNYL,ZIP,8.5X11,BK          EA   \n",
      "\n",
      "   SellLen  SellWid  SellHgt  SellWgt ShipSelling  ... Inner1Qty  Inner1Len  \\\n",
      "0      6.2      6.1      1.7     0.90           N  ...         0        0.0   \n",
      "1     11.9     12.0      2.4     2.91           N  ...         0        0.0   \n",
      "2      8.6      5.9      1.5     1.15           N  ...         0        0.0   \n",
      "3     10.3      8.1      1.9     1.48           N  ...         0        0.0   \n",
      "4     13.7     12.0      2.5     3.48           N  ...         0        0.0   \n",
      "\n",
      "   Inner1Wid  Inner1Hgt  Inner1Wgt  CaseQty  CaseLen  CaseWid  CaseHgt  \\\n",
      "0        0.0        0.0        0.0        3      6.4      5.5      6.8   \n",
      "1        0.0        0.0        0.0        6     11.7     11.5     13.0   \n",
      "2        0.0        0.0        0.0        6     13.8      8.1      9.9   \n",
      "3        0.0        0.0        0.0        6     11.3      8.8     11.4   \n",
      "4        0.0        0.0        0.0        3     14.8     11.8     11.2   \n",
      "\n",
      "   CaseWgt  \n",
      "0     3.30  \n",
      "1    16.70  \n",
      "2     8.10  \n",
      "3     9.76  \n",
      "4    17.91  \n",
      "\n",
      "[5 rows x 21 columns]\n"
     ]
    }
   ],
   "source": [
    "import pandas as pd\n",
    "\n",
    "dc23Sales04 = pd.read_table(str(folder/\"dc23Sales04.txt\"))\n",
    "Phily_Dim_Status2 = pd.read_excel(str(folder/\"Phily_Dim_Status2.xls\"))\n",
    "\n",
    "print(dc23Sales04.head(5))\n",
    "print(Phily_Dim_Status2.head(5))"
   ]
  },
  {
   "cell_type": "markdown",
   "metadata": {
    "id": "XiJFZZp3mMqD"
   },
   "source": [
    "## I) Activity Profiles"
   ]
  },
  {
   "cell_type": "code",
   "execution_count": null,
   "metadata": {
    "id": "uyKNotezmMqE"
   },
   "outputs": [],
   "source": [
    "# Import relevant data, setup libraries, etc."
   ]
  },
  {
   "cell_type": "markdown",
   "metadata": {
    "id": "9buBHxjCmMqE"
   },
   "source": [
    "### AP1 (Heatmap) - Place a Descriptive Title Here\n",
    "\n",
    "*Summary of insights formatted as a caption.*"
   ]
  },
  {
   "cell_type": "code",
   "execution_count": 7,
   "metadata": {
    "id": "mk00wva2mMqE"
   },
   "outputs": [],
   "source": [
    "# Code generating the figure"
   ]
  },
  {
   "cell_type": "markdown",
   "metadata": {
    "id": "oBRFEnnlmMqE"
   },
   "source": [
    "### AP2 (Customer Order) - Place a Descriptive Title Here\n",
    "\n",
    "*Summary of insights formatted as a caption.*"
   ]
  },
  {
   "cell_type": "code",
   "execution_count": 14,
   "metadata": {
    "id": "2lWCFMZgmMqF"
   },
   "outputs": [
    {
     "data": {
      "image/png": "[encoded data removed]",
      "text/plain": [
       "<Figure size 1000x600 with 2 Axes>"
      ]
     },
     "metadata": {},
     "output_type": "display_data"
    },
    {
     "name": "stdout",
     "output_type": "stream",
     "text": [
      "cusnbr\n",
      "1067595.0      1338047.0\n",
      "552321.0       1273126.0\n",
      "1064799.0      1029324.0\n",
      "919203.0        966399.0\n",
      "1068464.0       922143.0\n",
      "919312.0        541847.0\n",
      "917793.0        520364.0\n",
      "1067985.0       512548.0\n",
      "1046561.0       346243.0\n",
      "906311.0        291411.0\n",
      "55560.0         288743.0\n",
      "614396.0        268917.0\n",
      "1069179.0       246913.0\n",
      "917639.0        213209.0\n",
      "1068015.0       204393.0\n",
      "1067754.0       184794.0\n",
      "1057100.0       168693.0\n",
      "918529.0        160592.0\n",
      "1069153.0       159358.0\n",
      "927715.0        155403.0\n",
      "919394.0        146226.0\n",
      "1065168.0       135936.0\n",
      "1068673.0       135395.0\n",
      "1065835.0       134821.0\n",
      "1064723.0       133725.0\n",
      "1067538.0       129848.0\n",
      "614283.0        127462.0\n",
      "918033.0        116012.0\n",
      "918982.0        100879.0\n",
      "1065581.0       100831.0\n",
      "919569.0         85599.0\n",
      "1068032.0        85094.0\n",
      "146807.0         81782.0\n",
      "1067681.0        77833.0\n",
      "Other (80%)    2891844.0\n",
      "Name: ordqty, dtype: float64\n"
     ]
    }
   ],
   "source": [
    "import pandas as pd\n",
    "import matplotlib.pyplot as plt\n",
    "\n",
    "# Load data\n",
    "customer_orders = (\n",
    "    pd.read_csv(folder / 'dc23Sales04.txt', sep='\\t').groupby('cusnbr')['ordqty'].sum().sort_values(ascending=False)\n",
    ")\n",
    "\n",
    "# Calculate cumulative percentage\n",
    "cumulative = customer_orders.cumsum() / customer_orders.sum()\n",
    "\n",
    "# Find cutoff for top 20% customers (by cumulative contribution)\n",
    "cutoff_index = cumulative[cumulative <= 0.8].index  # customers in the first 80%\n",
    "top_customers = customer_orders.loc[cumulative <= 0.8]\n",
    "\n",
    "# Group remaining customers as \"Other\"\n",
    "other_total = customer_orders.loc[cumulative > 0.8].sum()\n",
    "\n",
    "# Build new series for plotting\n",
    "pareto_data = top_customers.copy()\n",
    "pareto_data[\"Other (80%)\"] = other_total\n",
    "\n",
    "# Recompute cumulative percentage\n",
    "cumulative_pareto = pareto_data.cumsum() / pareto_data.sum() * 100\n",
    "\n",
    "# ---- Plot ----\n",
    "fig, ax1 = plt.subplots(figsize=(10, 6))\n",
    "\n",
    "# Bars for order quantities\n",
    "pareto_data.plot(kind=\"bar\", ax=ax1, color=\"skyblue\")\n",
    "ax1.set_ylabel(\"Total Order Quantity\")\n",
    "ax1.set_xlabel(\"Customer\")\n",
    "ax1.set_title(\"Pareto Chart: Customer Order Quantity\")\n",
    "ax1.tick_params(axis=\"x\", labelrotation=45)\n",
    "\n",
    "# Cumulative % line\n",
    "ax2 = ax1.twinx()\n",
    "cumulative_pareto.plot(ax=ax2, color=\"red\", marker=\"o\", linewidth=2)\n",
    "ax2.set_ylabel(\"Cumulative Percentage (%)\")\n",
    "ax2.set_ylim([0, 110])\n",
    "\n",
    "plt.tight_layout()\n",
    "plt.show()\n",
    "\n",
    "# Show final aggregated customer data\n",
    "print(pareto_data)\n"
   ]
  },
  {
   "cell_type": "markdown",
   "metadata": {
    "id": "kF01uYk3mMqF"
   },
   "source": [
    "### AP3 (Customer Order) - Place a Descriptive Title Here\n",
    "\n",
    "*Summary of insights formatted as a caption.*"
   ]
  },
  {
   "cell_type": "code",
   "execution_count": null,
   "metadata": {
    "id": "FmTNG1NFmMqF"
   },
   "outputs": [
    {
     "data": {
      "image/png": "[encoded data removed]",
      "text/plain": [
       "<Figure size 1000x600 with 1 Axes>"
      ]
     },
     "metadata": {},
     "output_type": "display_data"
    },
    {
     "name": "stdout",
     "output_type": "stream",
     "text": [
      "\n",
      "Monthly totals (Jan–Dec):\n",
      "month\n",
      "1     1249716.0\n",
      "2     1169575.0\n",
      "3     1337566.0\n",
      "4     1077809.0\n",
      "5     1037152.0\n",
      "6     1150394.0\n",
      "7     1324260.0\n",
      "8     1327608.0\n",
      "9     1276770.0\n",
      "10    1160541.0\n",
      "11    1092430.0\n",
      "12    1071933.0\n",
      "Name: ordqty, dtype: float64\n"
     ]
    }
   ],
   "source": [
    "import pandas as pd\n",
    "import calendar\n",
    "import matplotlib.pyplot as plt\n",
    "\n",
    "# --- Load and parse txndate ---\n",
    "df = pd.read_csv(folder / 'dc23Sales04.txt', sep='\\t')\n",
    "df['txndate'] = pd.to_datetime(df['txndate'], errors='coerce')\n",
    "\n",
    "# Drop rows with invalid dates\n",
    "df = df.dropna(subset=['txndate'])\n",
    "\n",
    "# Extract month number (1–12)\n",
    "df['month'] = df['txndate'].dt.month\n",
    "\n",
    "# --- Group by month (chronological Jan–Dec) ---\n",
    "monthly_orders = (\n",
    "    df.groupby('month')['ordqty'].sum().reindex(range(1, 13), fill_value=0)  # ensure all months are present\n",
    ")\n",
    "\n",
    "# --- Plot ---\n",
    "fig, ax = plt.subplots(figsize=(10, 6))\n",
    "ax.bar(monthly_orders.index, monthly_orders.values, color=\"skyblue\")\n",
    "\n",
    "ax.set_ylabel(\"Total Order Quantity\")\n",
    "ax.set_xlabel(\"Month\")\n",
    "ax.set_title(\"Total Order Quantity by Month\")\n",
    "ax.set_xticks(range(1, 13))\n",
    "ax.set_xticklabels([calendar.month_abbr[m] for m in range(1, 13)], rotation=45)\n",
    "\n",
    "# Annotate bar values\n",
    "max_val = monthly_orders.max()\n",
    "for i, v in enumerate(monthly_orders):\n",
    "    ax.text(i+1, v + max_val*0.01, f\"{v:,.0f}\",\n",
    "            ha='center', va='bottom', fontsize=8)\n",
    "\n",
    "plt.tight_layout()\n",
    "plt.show()\n",
    "\n",
    "print(\"\\nMonthly totals (Jan–Dec):\")\n",
    "print(monthly_orders)\n"
   ]
  },
  {
   "cell_type": "markdown",
   "metadata": {
    "id": "mhhOtmMxmMqF"
   },
   "source": [
    "### AP4 (Item Activity) - Place a Descriptive Title Here\n",
    "\n",
    "*Summary of insights formatted as a caption.*"
   ]
  },
  {
   "cell_type": "code",
   "execution_count": 8,
   "metadata": {},
   "outputs": [
    {
     "ename": "NameError",
     "evalue": "name 'folder' is not defined",
     "output_type": "error",
     "traceback": [
      "\u001b[1;31m---------------------------------------------------------------------------\u001b[0m",
      "\u001b[1;31mNameError\u001b[0m                                 Traceback (most recent call last)",
      "Cell \u001b[1;32mIn[8], line 6\u001b[0m\n\u001b[0;32m      2\u001b[0m \u001b[38;5;28;01mimport\u001b[39;00m\u001b[38;5;250m \u001b[39m\u001b[38;5;21;01mmatplotlib\u001b[39;00m\u001b[38;5;21;01m.\u001b[39;00m\u001b[38;5;21;01mpyplot\u001b[39;00m\u001b[38;5;250m \u001b[39m\u001b[38;5;28;01mas\u001b[39;00m\u001b[38;5;250m \u001b[39m\u001b[38;5;21;01mplt\u001b[39;00m\n\u001b[0;32m      4\u001b[0m \u001b[38;5;66;03m# Group item by 'item' and sum 'Quantity Ordered'\u001b[39;00m\n\u001b[0;32m      5\u001b[0m item_quantity \u001b[38;5;241m=\u001b[39m (\n\u001b[1;32m----> 6\u001b[0m     pd\u001b[38;5;241m.\u001b[39mread_csv(\u001b[43mfolder\u001b[49m \u001b[38;5;241m/\u001b[39m \u001b[38;5;124m'\u001b[39m\u001b[38;5;124mdc23Sales04.txt\u001b[39m\u001b[38;5;124m'\u001b[39m, sep\u001b[38;5;241m=\u001b[39m\u001b[38;5;124m'\u001b[39m\u001b[38;5;130;01m\\t\u001b[39;00m\u001b[38;5;124m'\u001b[39m)\u001b[38;5;241m.\u001b[39mgroupby(\u001b[38;5;124m'\u001b[39m\u001b[38;5;124mitem\u001b[39m\u001b[38;5;124m'\u001b[39m)[\u001b[38;5;124m'\u001b[39m\u001b[38;5;124mQuantity Ordered\u001b[39m\u001b[38;5;124m'\u001b[39m]\u001b[38;5;241m.\u001b[39msum()\u001b[38;5;241m.\u001b[39msort_values(ascending\u001b[38;5;241m=\u001b[39m\u001b[38;5;28;01mFalse\u001b[39;00m)\n\u001b[0;32m      7\u001b[0m )\n\u001b[0;32m      9\u001b[0m \u001b[38;5;66;03m#plot\u001b[39;00m\n\u001b[0;32m     10\u001b[0m fig, ax \u001b[38;5;241m=\u001b[39m plt\u001b[38;5;241m.\u001b[39msubplots(figsize\u001b[38;5;241m=\u001b[39m(\u001b[38;5;241m10\u001b[39m, \u001b[38;5;241m6\u001b[39m))\n",
      "\u001b[1;31mNameError\u001b[0m: name 'folder' is not defined"
     ]
    }
   ],
   "source": [
    "import pandas as pd\n",
    "import matplotlib.pyplot as plt\n",
    "\n",
    "# Group item by 'item' and sum 'Quantity Ordered'\n",
    "item_quantity = (\n",
    "    pd.read_csv(folder / 'dc23Sales04.txt', sep='\\t').groupby('item')['Quantity Ordered'].sum().sort_values(ascending=False)\n",
    ")\n",
    "\n",
    "#plot\n",
    "fig, ax = plt.subplots(figsize=(10, 6))\n",
    "item_quantity.plot(kind=\"bar\", ax=ax, color=\"skyblue\")\n",
    "ax.set_ylabel(\"Total Quantity Ordered\")\n",
    "ax.set_xlabel(\"Item Number\")\n",
    "ax.set_title(\"Total Quantity Ordered by Item Number\")\n",
    "ax.tick_params(axis=\"x\", labelrotation=45)\n",
    "\n",
    "plt.tight_layout()\n",
    "plt.show()\n",
    "\n",
    "print(item_quantity)"
   ]
  },
  {
   "cell_type": "markdown",
   "metadata": {
    "id": "1TgmkuH4mMqF"
   },
   "source": [
    "### AP5 (Item Activity) - Place a Descriptive Title Here\n",
    "\n",
    "*Summary of insights formatted as a caption.*"
   ]
  },
  {
   "cell_type": "code",
   "execution_count": null,
   "metadata": {
    "id": "VXBtmdcdmMqF"
   },
   "outputs": [],
   "source": [
    "# Code generating the figure"
   ]
  },
  {
   "cell_type": "markdown",
   "metadata": {
    "id": "bQLj2EzRmMqF"
   },
   "source": [
    "### AP6 (Inventory) - Place a Descriptive Title Here\n",
    "\n",
    "*Summary of insights formatted as a caption.*"
   ]
  },
  {
   "cell_type": "code",
   "execution_count": null,
   "metadata": {
    "id": "zf9g9sgNmMqF"
   },
   "outputs": [],
   "source": [
    "# Code generating the figure"
   ]
  },
  {
   "cell_type": "markdown",
   "metadata": {
    "id": "eSaPwkTAmMqG"
   },
   "source": [
    "### AP7 (Inventory) - Place a Descriptive Title Here\n",
    "\n",
    "*Summary of insights formatted as a caption.*"
   ]
  },
  {
   "cell_type": "code",
   "execution_count": null,
   "metadata": {
    "id": "RFYIYjngmMqG"
   },
   "outputs": [],
   "source": [
    "# Code generating the figure"
   ]
  },
  {
   "cell_type": "markdown",
   "metadata": {
    "id": "fs9Iyu-ImMqG"
   },
   "source": [
    "## Key Performance Indicators (KPIs)\n",
    "\n",
    "### KPI1 (Time) - Place a Descriptive Title Here\n",
    "\n",
    "*Summary of insights formatted as a caption.*"
   ]
  },
  {
   "cell_type": "code",
   "execution_count": null,
   "metadata": {
    "id": "5lAyYmdFmMqG"
   },
   "outputs": [],
   "source": [
    "# Code calculating the KPI"
   ]
  },
  {
   "cell_type": "markdown",
   "metadata": {
    "id": "ST0RDxdqmMqG"
   },
   "source": [
    "### KPI2 (Quality) - Place a Descriptive Title Here\n",
    "\n",
    "*Summary of insights formatted as a caption.*"
   ]
  },
  {
   "cell_type": "code",
   "execution_count": null,
   "metadata": {
    "id": "a77JKpndmMqG"
   },
   "outputs": [],
   "source": [
    "# Code calculating the KPI"
   ]
  },
  {
   "cell_type": "markdown",
   "metadata": {
    "id": "K1_kWPonmMqG"
   },
   "source": [
    "### KPI3 (Quality) - Place a Descriptive Title Here\n",
    "\n",
    "*Summary of insights formatted as a caption.*"
   ]
  },
  {
   "cell_type": "code",
   "execution_count": null,
   "metadata": {
    "id": "TdqMg5RrmMqG"
   },
   "outputs": [],
   "source": [
    "# Code calculating the KPI"
   ]
  },
  {
   "cell_type": "markdown",
   "metadata": {
    "id": "QmQ4oOz6mMqG"
   },
   "source": [
    "### KPI4 (Productivity) - Place a Descriptive Title Here\n",
    "\n",
    "*Summary of insights formatted as a caption.*"
   ]
  },
  {
   "cell_type": "code",
   "execution_count": null,
   "metadata": {
    "id": "IqjVUBoJmMqG"
   },
   "outputs": [],
   "source": [
    "# Code calculating the KPI"
   ]
  },
  {
   "cell_type": "markdown",
   "metadata": {
    "id": "GusfzeTrmMqG"
   },
   "source": [
    "### KPI5 (Productivity) - Place a Descriptive Title Here\n",
    "\n",
    "*Summary of insights formatted as a caption.*"
   ]
  },
  {
   "cell_type": "code",
   "execution_count": null,
   "metadata": {
    "id": "fZUX4uFKmMqG"
   },
   "outputs": [],
   "source": [
    "# Code calculating the KPI"
   ]
  }
 ],
 "metadata": {
  "colab": {
   "provenance": []
  },
  "kernelspec": {
   "display_name": "Python 3",
   "language": "python",
   "name": "python3"
  },
  "language_info": {
   "codemirror_mode": {
    "name": "ipython",
    "version": 3
   },
   "file_extension": ".py",
   "mimetype": "text/x-python",
   "name": "python",
   "nbconvert_exporter": "python",
   "pygments_lexer": "ipython3",
   "version": "3.13.0"
  }
 },
 "nbformat": 4,
 "nbformat_minor": 0
}
