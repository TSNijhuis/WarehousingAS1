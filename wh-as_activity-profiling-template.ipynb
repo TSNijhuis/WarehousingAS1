{
 "cells": [
  {
   "cell_type": "markdown",
   "metadata": {
    "id": "CxFdALwemMqA"
   },
   "source": [
    "# Warehouse Activity Profiling\n",
    "\n",
    "## Data Setup\n",
    "\n",
    "In the following, warehousing data is downloaded to a local directory `data/raw`."
   ]
  },
  {
   "cell_type": "code",
   "execution_count": 2,
   "metadata": {
    "colab": {
     "base_uri": "https://localhost:8080/"
    },
    "executionInfo": {
     "elapsed": 42052,
     "status": "ok",
     "timestamp": 1756977760083,
     "user": {
      "displayName": "Breno Alves Beirigo",
      "userId": "03199790246881935880"
     },
     "user_tz": -120
    },
    "id": "0O6UXFTAmMqB",
    "outputId": "69a835b7-05be-44c2-d7bc-447c4a652c29"
   },
   "outputs": [
    {
     "name": "stderr",
     "output_type": "stream",
     "text": [
      "\n",
      "[notice] A new release of pip is available: 25.1.1 -> 25.2\n",
      "[notice] To update, run: python.exe -m pip install --upgrade pip\n"
     ]
    },
    {
     "name": "stdout",
     "output_type": "stream",
     "text": [
      "Note: you may need to restart the kernel to use updated packages.\n",
      "Downloading file: DC23MINMAX2.xls\n"
     ]
    },
    {
     "name": "stderr",
     "output_type": "stream",
     "text": [
      "Downloading...\n",
      "From: https://docs.google.com/uc?id=1-HdyNodYixXl6cMUS-YxKhngPSBsP4Mq\n",
      "To: c:\\Users\\nijhu\\Documents\\GitHub\\WarehousingAS1\\data\\raw\\DC23MINMAX2.xls\n",
      "100%|██████████| 2.02M/2.02M [00:00<00:00, 8.60MB/s]\n"
     ]
    },
    {
     "name": "stdout",
     "output_type": "stream",
     "text": [
      "Downloading file: BCF-zones.xls\n"
     ]
    },
    {
     "name": "stderr",
     "output_type": "stream",
     "text": [
      "Downloading...\n",
      "From: https://docs.google.com/uc?id=11ULuWAONeoT5u15KNLPo2IhlWf7gKAHs\n",
      "To: c:\\Users\\nijhu\\Documents\\GitHub\\WarehousingAS1\\data\\raw\\BCF-zones.xls\n",
      "100%|██████████| 113k/113k [00:00<00:00, 6.88MB/s]\n"
     ]
    },
    {
     "name": "stdout",
     "output_type": "stream",
     "text": [
      "Downloading file: dc23Sales04.txt\n"
     ]
    },
    {
     "name": "stderr",
     "output_type": "stream",
     "text": [
      "Downloading...\n",
      "From (original): https://drive.google.com/uc?id=16Z3vAdCzwErOTUF5MYOv-6Jc0wtis2x-\n",
      "From (redirected): https://drive.google.com/uc?id=16Z3vAdCzwErOTUF5MYOv-6Jc0wtis2x-&confirm=t&uuid=733bf3aa-046d-4097-aa16-bd07b850a094\n",
      "To: c:\\Users\\nijhu\\Documents\\GitHub\\WarehousingAS1\\data\\raw\\dc23Sales04.txt\n",
      "100%|██████████| 190M/190M [00:22<00:00, 8.59MB/s]]\n"
     ]
    },
    {
     "name": "stdout",
     "output_type": "stream",
     "text": [
      "Downloading file: Phily_Dim_Status2.xls\n"
     ]
    },
    {
     "name": "stderr",
     "output_type": "stream",
     "text": [
      "Downloading...\n",
      "From: https://docs.google.com/uc?id=1EZuFoHB8X2Ji_ylOozsTnc3IM8VBs7Sl\n",
      "To: c:\\Users\\nijhu\\Documents\\GitHub\\WarehousingAS1\\data\\raw\\Phily_Dim_Status2.xls\n",
      "100%|██████████| 5.95M/5.95M [00:00<00:00, 8.07MB/s]\n"
     ]
    },
    {
     "name": "stdout",
     "output_type": "stream",
     "text": [
      "Downloading file: DC23ACTIVE AS OF 050210.xls\n"
     ]
    },
    {
     "name": "stderr",
     "output_type": "stream",
     "text": [
      "Downloading...\n",
      "From: https://docs.google.com/uc?id=1QQDh-i4XXHuXmRP3hB9WCw5zLn5VY-OO\n",
      "To: c:\\Users\\nijhu\\Documents\\GitHub\\WarehousingAS1\\data\\raw\\DC23ACTIVE AS OF 050210.xls\n",
      "100%|██████████| 2.79M/2.79M [00:00<00:00, 8.04MB/s]\n"
     ]
    },
    {
     "name": "stdout",
     "output_type": "stream",
     "text": [
      "Downloading file: CDCART23.txt\n"
     ]
    },
    {
     "name": "stderr",
     "output_type": "stream",
     "text": [
      "Downloading...\n",
      "From: https://drive.google.com/uc?id=1b_YdIZFgpHpwGiStUZgFXdX8OQo5TD5q\n",
      "To: c:\\Users\\nijhu\\Documents\\GitHub\\WarehousingAS1\\data\\raw\\CDCART23.txt\n",
      "100%|██████████| 20.9M/20.9M [00:02<00:00, 8.55MB/s]\n"
     ]
    },
    {
     "name": "stdout",
     "output_type": "stream",
     "text": [
      "Downloading file: CHCART23.txt\n"
     ]
    },
    {
     "name": "stderr",
     "output_type": "stream",
     "text": [
      "Downloading...\n",
      "From: https://drive.google.com/uc?id=1hc5aJHHkA33QG3mWaR0YWb-TMJK_svqd\n",
      "To: c:\\Users\\nijhu\\Documents\\GitHub\\WarehousingAS1\\data\\raw\\CHCART23.txt\n",
      "100%|██████████| 8.19M/8.19M [00:00<00:00, 8.34MB/s]\n"
     ]
    },
    {
     "name": "stdout",
     "output_type": "stream",
     "text": [
      "Downloading file: DC23CASES AS OF 050210.xls\n"
     ]
    },
    {
     "name": "stderr",
     "output_type": "stream",
     "text": [
      "Downloading...\n",
      "From: https://docs.google.com/uc?id=1ok3ymi8g5FsBFVThjNC7TRuEIg3GDrP7\n",
      "To: c:\\Users\\nijhu\\Documents\\GitHub\\WarehousingAS1\\data\\raw\\DC23CASES AS OF 050210.xls\n",
      "100%|██████████| 8.10M/8.10M [00:00<00:00, 8.65MB/s]\n"
     ]
    },
    {
     "name": "stdout",
     "output_type": "stream",
     "text": [
      "Downloading file: ITEMDATAV2.txt\n"
     ]
    },
    {
     "name": "stderr",
     "output_type": "stream",
     "text": [
      "Downloading...\n",
      "From: https://drive.google.com/uc?id=1xX1L5aMErZWRPjK90XgocHa9OKVcFMJh\n",
      "To: c:\\Users\\nijhu\\Documents\\GitHub\\WarehousingAS1\\data\\raw\\ITEMDATAV2.txt\n",
      "100%|██████████| 6.34M/6.34M [00:00<00:00, 8.62MB/s]\n"
     ]
    },
    {
     "name": "stdout",
     "output_type": "stream",
     "text": [
      "Downloading file: TRCART23.txt\n"
     ]
    },
    {
     "name": "stderr",
     "output_type": "stream",
     "text": [
      "Downloading...\n",
      "From: https://drive.google.com/uc?id=1y3g786KPqAtcVveDBsM9xwjtlKTN4-vL\n",
      "To: c:\\Users\\nijhu\\Documents\\GitHub\\WarehousingAS1\\data\\raw\\TRCART23.txt\n",
      "100%|██████████| 18.7M/18.7M [00:02<00:00, 8.71MB/s]\n"
     ]
    }
   ],
   "source": [
    "# Install useful libraries\n",
    "%pip install -q gdown pathlib pandas seaborn matplotlib numpy plotly openpyxl xlrd\n",
    "\n",
    "# Useful libraries\n",
    "import gdown\n",
    "import pathlib\n",
    "import os\n",
    "\n",
    "# File names, storage links, and column headers\n",
    "files = {\n",
    "  \"DC23MINMAX2.xls\":\"https://docs.google.com/uc?id=1-HdyNodYixXl6cMUS-YxKhngPSBsP4Mq\",\n",
    "  \"BCF-zones.xls\":\"https://docs.google.com/uc?id=11ULuWAONeoT5u15KNLPo2IhlWf7gKAHs\",\n",
    "  \"dc23Sales04.txt\":\"https://drive.google.com/uc?id=16Z3vAdCzwErOTUF5MYOv-6Jc0wtis2x-\",\n",
    "  \"Phily_Dim_Status2.xls\":\"https://docs.google.com/uc?id=1EZuFoHB8X2Ji_ylOozsTnc3IM8VBs7Sl\",\n",
    "  \"DC23ACTIVE AS OF 050210.xls\":\"https://docs.google.com/uc?id=1QQDh-i4XXHuXmRP3hB9WCw5zLn5VY-OO\",\n",
    "  \"CDCART23.txt\":\"https://drive.google.com/uc?id=1b_YdIZFgpHpwGiStUZgFXdX8OQo5TD5q\",\n",
    "  \"CHCART23.txt\":\"https://drive.google.com/uc?id=1hc5aJHHkA33QG3mWaR0YWb-TMJK_svqd\",\n",
    "  \"DC23CASES AS OF 050210.xls\":\"https://docs.google.com/uc?id=1ok3ymi8g5FsBFVThjNC7TRuEIg3GDrP7\",\n",
    "  \"ITEMDATAV2.txt\":\"https://drive.google.com/uc?id=1xX1L5aMErZWRPjK90XgocHa9OKVcFMJh\",\n",
    "  \"TRCART23.txt\":\"https://drive.google.com/uc?id=1y3g786KPqAtcVveDBsM9xwjtlKTN4-vL\",\n",
    "}\n",
    "\n",
    "# Files' destination directory\n",
    "folder = pathlib.Path(\"data/raw\")\n",
    "\n",
    "# Create destination directory inside project folder\n",
    "os.makedirs(folder, exist_ok=True)\n",
    "\n",
    "for output, url in files.items():\n",
    "  print(f\"Downloading file: {output}\")\n",
    "  # Download a file to the the target folder\n",
    "  gdown.download(url, str(folder / output), quiet=False)"
   ]
  },
  {
   "cell_type": "markdown",
   "metadata": {
    "id": "BqtSSCXemMqD"
   },
   "source": [
    "Loading the data into Pandas DataFrames:"
   ]
  },
  {
   "cell_type": "code",
   "execution_count": 3,
   "metadata": {
    "id": "j7bNcHUfmMqD"
   },
   "outputs": [
    {
     "name": "stdout",
     "output_type": "stream",
     "text": [
      "         item vnid                       itdesc      ordnbr  linenbr  \\\n",
      "0    BRTTN460  BRT    CRTDG,TNR,HI YLD,F/HL1250  23926870.0      1.0   \n",
      "1  CMC5810-BE  CMC   CART,UTLTY,200#CPCTY,16X36  23559658.0      1.0   \n",
      "2    KOK00172  KOK        TAPE,REFILL,PERMANENT  23840414.0      2.0   \n",
      "3     SOF1500  SOF  TWISSTOP,PHONE UNTANGLER,CL  23926870.0      2.0   \n",
      "4    SPR19764  GBC       BOARD,CORK,ALUMFRM,3X2  23750895.0      3.0   \n",
      "\n",
      "     cusnbr  ordqty  shpqty uom              txndate  \n",
      "0  615413.0     4.0     4.0  EA  2004-12-01 17:01:00  \n",
      "1   10135.0     8.0     8.0  EA  2004-08-02 14:45:00  \n",
      "2  614283.0     1.0     1.0  EA  2004-11-01 10:41:00  \n",
      "3  615413.0    20.0    20.0  EA  2004-12-01 17:01:00  \n",
      "4   27454.0     3.0     3.0  EA  2004-10-01 15:46:00  \n",
      "        SKU Stocked OMS Status                  Description Selling UOM  \\\n",
      "0  AAG47294       Y          X         PLNR,\"FAT LITTLE\",BK          EA   \n",
      "1  AAG47342       Y          X   ORGNZR,LTHR,SNAP,8.5X11,BK          EA   \n",
      "2  AAG47344       Y          X  ORGNZR,VYL,ZIP,3.75X6.75,BK          EA   \n",
      "3  AAG47346       Y          X  ORGNZR,SMLTH,ZIP,5.5X8.5,BK          EA   \n",
      "4  AAG47348       Y          X    ORGNZR,VNYL,ZIP,8.5X11,BK          EA   \n",
      "\n",
      "   SellLen  SellWid  SellHgt  SellWgt ShipSelling  ... Inner1Qty  Inner1Len  \\\n",
      "0      6.2      6.1      1.7     0.90           N  ...         0        0.0   \n",
      "1     11.9     12.0      2.4     2.91           N  ...         0        0.0   \n",
      "2      8.6      5.9      1.5     1.15           N  ...         0        0.0   \n",
      "3     10.3      8.1      1.9     1.48           N  ...         0        0.0   \n",
      "4     13.7     12.0      2.5     3.48           N  ...         0        0.0   \n",
      "\n",
      "   Inner1Wid  Inner1Hgt  Inner1Wgt  CaseQty  CaseLen  CaseWid  CaseHgt  \\\n",
      "0        0.0        0.0        0.0        3      6.4      5.5      6.8   \n",
      "1        0.0        0.0        0.0        6     11.7     11.5     13.0   \n",
      "2        0.0        0.0        0.0        6     13.8      8.1      9.9   \n",
      "3        0.0        0.0        0.0        6     11.3      8.8     11.4   \n",
      "4        0.0        0.0        0.0        3     14.8     11.8     11.2   \n",
      "\n",
      "   CaseWgt  \n",
      "0     3.30  \n",
      "1    16.70  \n",
      "2     8.10  \n",
      "3     9.76  \n",
      "4    17.91  \n",
      "\n",
      "[5 rows x 21 columns]\n"
     ]
    }
   ],
   "source": [
    "import pandas as pd\n",
    "\n",
    "dc23Sales04 = pd.read_table(str(folder/\"dc23Sales04.txt\"))\n",
    "Phily_Dim_Status2 = pd.read_excel(str(folder/\"Phily_Dim_Status2.xls\"))\n",
    "\n",
    "print(dc23Sales04.head(5))\n",
    "print(Phily_Dim_Status2.head(5))"
   ]
  },
  {
   "cell_type": "markdown",
   "metadata": {
    "id": "XiJFZZp3mMqD"
   },
   "source": [
    "## I) Activity Profiles"
   ]
  },
  {
   "cell_type": "code",
   "execution_count": null,
   "metadata": {
    "id": "uyKNotezmMqE"
   },
   "outputs": [
    {
     "name": "stdout",
     "output_type": "stream",
     "text": [
      "Downloading file: DC23MINMAX2.xls\n"
     ]
    },
    {
     "ename": "NameError",
     "evalue": "name 'gdown' is not defined",
     "output_type": "error",
     "traceback": [
      "\u001b[1;31m---------------------------------------------------------------------------\u001b[0m",
      "\u001b[1;31mNameError\u001b[0m                                 Traceback (most recent call last)",
      "Cell \u001b[1;32mIn[3], line 29\u001b[0m\n\u001b[0;32m     27\u001b[0m   \u001b[38;5;28mprint\u001b[39m(\u001b[38;5;124mf\u001b[39m\u001b[38;5;124m\"\u001b[39m\u001b[38;5;124mDownloading file: \u001b[39m\u001b[38;5;132;01m{\u001b[39;00moutput\u001b[38;5;132;01m}\u001b[39;00m\u001b[38;5;124m\"\u001b[39m)\n\u001b[0;32m     28\u001b[0m   \u001b[38;5;66;03m# Download a file to the the target folder\u001b[39;00m\n\u001b[1;32m---> 29\u001b[0m   \u001b[43mgdown\u001b[49m\u001b[38;5;241m.\u001b[39mdownload(url, \u001b[38;5;28mstr\u001b[39m(folder \u001b[38;5;241m/\u001b[39m output), quiet\u001b[38;5;241m=\u001b[39m\u001b[38;5;28;01mFalse\u001b[39;00m)\n\u001b[0;32m     30\u001b[0m \u001b[38;5;66;03m# Load data\u001b[39;00m\n\u001b[0;32m     31\u001b[0m dc23Sales04 \u001b[38;5;241m=\u001b[39m pd\u001b[38;5;241m.\u001b[39mread_table(\u001b[38;5;28mstr\u001b[39m(folder\u001b[38;5;241m/\u001b[39m\u001b[38;5;124m\"\u001b[39m\u001b[38;5;124mdc23Sales04.txt\u001b[39m\u001b[38;5;124m\"\u001b[39m))\n",
      "\u001b[1;31mNameError\u001b[0m: name 'gdown' is not defined"
     ]
    }
   ],
   "source": []
  },
  {
   "cell_type": "markdown",
   "metadata": {
    "id": "9buBHxjCmMqE"
   },
   "source": [
    "### AP1 (Heatmap) - Place a Descriptive Title Here\n",
    "\n",
    "*Summary of insights formatted as a caption.*"
   ]
  },
  {
   "cell_type": "code",
   "execution_count": null,
   "metadata": {
    "id": "mk00wva2mMqE"
   },
   "outputs": [],
   "source": [
    "# Code generating the figure"
   ]
  },
  {
   "cell_type": "markdown",
   "metadata": {
    "id": "oBRFEnnlmMqE"
   },
   "source": [
    "### AP2 (Customer Order) - Place a Descriptive Title Here\n",
    "\n",
    "*Summary of insights formatted as a caption.*"
   ]
  },
  {
   "cell_type": "code",
   "execution_count": null,
   "metadata": {
    "id": "2lWCFMZgmMqF"
   },
   "outputs": [],
   "source": [
    "# Code generating the figure"
   ]
  },
  {
   "cell_type": "markdown",
   "metadata": {
    "id": "kF01uYk3mMqF"
   },
   "source": [
    "### AP3 (Customer Order) - Place a Descriptive Title Here\n",
    "\n",
    "*Summary of insights formatted as a caption.*"
   ]
  },
  {
   "cell_type": "code",
   "execution_count": null,
   "metadata": {
    "id": "FmTNG1NFmMqF"
   },
   "outputs": [],
   "source": [
    "# Code generating the figure"
   ]
  },
  {
   "cell_type": "markdown",
   "metadata": {
    "id": "mhhOtmMxmMqF"
   },
   "source": [
    "### AP4 (Item Activity) - Place a Descriptive Title Here\n",
    "\n",
    "*Summary of insights formatted as a caption.*"
   ]
  },
  {
   "cell_type": "code",
   "execution_count": null,
   "metadata": {
    "id": "30yk6WTdmMqF"
   },
   "outputs": [
    {
     "data": {
      "image/png": "[encoded data removed]",
      "text/plain": [
       "<Figure size 1000x600 with 1 Axes>"
      ]
     },
     "metadata": {},
     "output_type": "display_data"
    },
    {
     "name": "stdout",
     "output_type": "stream",
     "text": [
      "item\n",
      "SPR06120                     316987.0\n",
      "HPG16200-8                   216258.0\n",
      "HPG10500-7                   129752.0\n",
      "SAN30001                     103960.0\n",
      "SPR85001                      98874.0\n",
      "                               ...   \n",
      "AAG77-260-05                      1.0\n",
      "SPR02283                          1.0\n",
      "SPR03601                          1.0\n",
      "SPR19110                          1.0\n",
      "(2249640 row(s) affected)         0.0\n",
      "Name: ordqty, Length: 31425, dtype: float64\n"
     ]
    }
   ],
   "source": [
    "import pandas as pd\n",
    "import matplotlib.pyplot as plt\n",
    "import pathlib\n",
    "\n",
    "# Define the folder path\n",
    "folder = pathlib.Path(\"data/raw\")\n",
    "\n",
    "# Group item by 'item' and sum 'Quantity Ordered'\n",
    "item_quantity = (\n",
    "    pd.read_csv(folder / 'dc23Sales04.txt', sep='\\t').groupby('item')['ordqty'].sum().sort_values(ascending=False)\n",
    ")\n",
    "\n",
    "# Plot\n",
    "fig, ax = plt.subplots(figsize=(10, 6))\n",
    "item_quantity.plot(kind=\"bar\", ax=ax, color=\"skyblue\")\n",
    "ax.set_ylabel(\"Total Quantity Ordered\")\n",
    "ax.set_xlabel(\"Item Number\")\n",
    "ax.set_title(\"Total Quantity Ordered by Item Number\")\n",
    "ax.tick_params(axis=\"x\", labelrotation=45)\n",
    "\n",
    "plt.tight_layout()\n",
    "plt.show()\n",
    "\n",
    "print(item_quantity)"
   ]
  },
  {
   "cell_type": "markdown",
   "metadata": {
    "id": "1TgmkuH4mMqF"
   },
   "source": [
    "### AP5 (Item Activity) - Place a Descriptive Title Here\n",
    "\n",
    "*Summary of insights formatted as a caption.*"
   ]
  },
  {
   "cell_type": "code",
   "execution_count": null,
   "metadata": {
    "id": "VXBtmdcdmMqF"
   },
   "outputs": [],
   "source": [
    "# Code generating the figure"
   ]
  },
  {
   "cell_type": "markdown",
   "metadata": {
    "id": "bQLj2EzRmMqF"
   },
   "source": [
    "### AP6 (Inventory) - Place a Descriptive Title Here\n",
    "\n",
    "*Summary of insights formatted as a caption.*"
   ]
  },
  {
   "cell_type": "code",
   "execution_count": null,
   "metadata": {
    "id": "zf9g9sgNmMqF"
   },
   "outputs": [],
   "source": [
    "# Code generating the figure"
   ]
  },
  {
   "cell_type": "markdown",
   "metadata": {
    "id": "eSaPwkTAmMqG"
   },
   "source": [
    "### AP7 (Inventory) - Place a Descriptive Title Here\n",
    "\n",
    "*Summary of insights formatted as a caption.*"
   ]
  },
  {
   "cell_type": "code",
   "execution_count": null,
   "metadata": {
    "id": "RFYIYjngmMqG"
   },
   "outputs": [],
   "source": [
    "# Code generating the figure"
   ]
  },
  {
   "cell_type": "markdown",
   "metadata": {
    "id": "fs9Iyu-ImMqG"
   },
   "source": [
    "## Key Performance Indicators (KPIs)\n",
    "\n",
    "### KPI1 (Time) - Place a Descriptive Title Here\n",
    "\n",
    "*Summary of insights formatted as a caption.*"
   ]
  },
  {
   "cell_type": "code",
   "execution_count": null,
   "metadata": {
    "id": "5lAyYmdFmMqG"
   },
   "outputs": [],
   "source": [
    "# Code calculating the KPI"
   ]
  },
  {
   "cell_type": "markdown",
   "metadata": {
    "id": "ST0RDxdqmMqG"
   },
   "source": [
    "### KPI2 (Quality) - Place a Descriptive Title Here\n",
    "\n",
    "*Summary of insights formatted as a caption.*"
   ]
  },
  {
   "cell_type": "code",
   "execution_count": 8,
   "metadata": {
    "id": "a77JKpndmMqG"
   },
   "outputs": [
    {
     "name": "stdout",
     "output_type": "stream",
     "text": [
      "Products at or below reorder point: 8486 of 23874 (35.5%)\n"
     ]
    }
   ],
   "source": [
    "import pandas as pd\n",
    "import pathlib\n",
    "\n",
    "folder = pathlib.Path(\"data/raw\")\n",
    "\n",
    "# Load data\n",
    "minmax = pd.read_excel(folder / \"DC23MINMAX2.xls\")\n",
    "active = pd.read_excel(folder / \"DC23ACTIVE AS OF 050210.xls\")\n",
    "cases = pd.read_excel(folder / \"DC23CASES AS OF 050210.xls\")\n",
    "\n",
    "# Merge inventory positions (assuming 'SKU' is the common key; adjust if needed)\n",
    "inventory = pd.concat([active, cases], ignore_index=True)\n",
    "\n",
    "# Merge with minmax to get reorder points\n",
    "merged = pd.merge(inventory, minmax[['SKU', 'Min']], on='SKU', how='left')\n",
    "\n",
    "# Count products at or below reorder point\n",
    "below_reorder = merged[merged['QUANTITY'] <= merged['Min']]\n",
    "\n",
    "# KPI: Number and percentage of products at or below reorder point\n",
    "num_below = below_reorder['SKU'].nunique()\n",
    "total_products = merged['SKU'].nunique()\n",
    "percent_below = num_below / total_products * 100\n",
    "\n",
    "print(f\"Products at or below reorder point: {num_below} of {total_products} ({percent_below:.1f}%)\")"
   ]
  },
  {
   "cell_type": "markdown",
   "metadata": {
    "id": "K1_kWPonmMqG"
   },
   "source": [
    "### KPI3 (Quality) - Place a Descriptive Title Here\n",
    "\n",
    "*Summary of insights formatted as a caption.*"
   ]
  },
  {
   "cell_type": "code",
   "execution_count": null,
   "metadata": {
    "id": "TdqMg5RrmMqG"
   },
   "outputs": [],
   "source": [
    "# Code calculating the KPI"
   ]
  },
  {
   "cell_type": "markdown",
   "metadata": {
    "id": "QmQ4oOz6mMqG"
   },
   "source": [
    "### KPI4 (Productivity) - Place a Descriptive Title Here\n",
    "\n",
    "*Summary of insights formatted as a caption.*"
   ]
  },
  {
   "cell_type": "code",
   "execution_count": null,
   "metadata": {
    "id": "IqjVUBoJmMqG"
   },
   "outputs": [],
   "source": [
    "# Code calculating the KPI"
   ]
  },
  {
   "cell_type": "markdown",
   "metadata": {
    "id": "GusfzeTrmMqG"
   },
   "source": [
    "### KPI5 (Productivity) - Place a Descriptive Title Here\n",
    "\n",
    "*Summary of insights formatted as a caption.*"
   ]
  },
  {
   "cell_type": "code",
   "execution_count": null,
   "metadata": {
    "id": "fZUX4uFKmMqG"
   },
   "outputs": [],
   "source": [
    "# Code calculating the KPI"
   ]
  }
 ],
 "metadata": {
  "colab": {
   "provenance": []
  },
  "kernelspec": {
   "display_name": "Python 3",
   "language": "python",
   "name": "python3"
  },
  "language_info": {
   "codemirror_mode": {
    "name": "ipython",
    "version": 3
   },
   "file_extension": ".py",
   "mimetype": "text/x-python",
   "name": "python",
   "nbconvert_exporter": "python",
   "pygments_lexer": "ipython3",
   "version": "3.13.2"
  }
 },
 "nbformat": 4,
 "nbformat_minor": 0
}
